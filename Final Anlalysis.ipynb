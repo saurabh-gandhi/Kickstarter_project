{
 "cells": [
  {
   "cell_type": "code",
   "execution_count": 3,
   "metadata": {},
   "outputs": [],
   "source": [
    "import pandas as pd\n",
    "import numpy as np\n"
   ]
  },
  {
   "cell_type": "code",
   "execution_count": 4,
   "metadata": {},
   "outputs": [],
   "source": [
    "analysis = pd.read_csv('Cleaned_data_with_desc_and_rewards.csv')\n"
   ]
  },
  {
   "cell_type": "code",
   "execution_count": 5,
   "metadata": {},
   "outputs": [],
   "source": [
    "analysis['duration'] = analysis.deadline - analysis.launched_at"
   ]
  },
  {
   "cell_type": "code",
   "execution_count": 6,
   "metadata": {},
   "outputs": [],
   "source": [
    "analysis['length_of_blurb'] = analysis['blurb'].str.split(' ').apply(len)"
   ]
  },
  {
   "cell_type": "code",
   "execution_count": 7,
   "metadata": {},
   "outputs": [
    {
     "data": {
      "text/plain": [
       "'See some cool illustrations, Help make them available online, & Take part in the creation of a whole new series.'"
      ]
     },
     "execution_count": 7,
     "metadata": {},
     "output_type": "execute_result"
    }
   ],
   "source": [
    "analysis['length_of_blurb'].head()\n",
    "analysis.iloc[0].blurb"
   ]
  },
  {
   "cell_type": "code",
   "execution_count": 8,
   "metadata": {},
   "outputs": [],
   "source": [
    "analysis.staff_pick = analysis.staff_pick.astype(int)"
   ]
  },
  {
   "cell_type": "code",
   "execution_count": 9,
   "metadata": {},
   "outputs": [],
   "source": [
    "analysis.Rewards = analysis.Rewards + 1"
   ]
  },
  {
   "cell_type": "code",
   "execution_count": 10,
   "metadata": {},
   "outputs": [
    {
     "data": {
      "text/plain": [
       "11"
      ]
     },
     "execution_count": 10,
     "metadata": {},
     "output_type": "execute_result"
    }
   ],
   "source": [
    "analysis.iloc[0].Rewards"
   ]
  },
  {
   "cell_type": "code",
   "execution_count": 11,
   "metadata": {},
   "outputs": [],
   "source": [
    "analysis['avg_goal_reward_level'] = analysis.goal / analysis.Rewards"
   ]
  },
  {
   "cell_type": "code",
   "execution_count": 12,
   "metadata": {},
   "outputs": [],
   "source": [
    "average_staff_picked  = analysis[analysis['staff_pick']==1]['length_of_blurb'].mean()"
   ]
  },
  {
   "cell_type": "code",
   "execution_count": 13,
   "metadata": {},
   "outputs": [
    {
     "data": {
      "text/plain": [
       "18.903846153846153"
      ]
     },
     "execution_count": 13,
     "metadata": {},
     "output_type": "execute_result"
    }
   ],
   "source": [
    "average_staff_picked"
   ]
  },
  {
   "cell_type": "code",
   "execution_count": 14,
   "metadata": {},
   "outputs": [],
   "source": [
    "analysis['dist_from_mean'] =  analysis.length_of_blurb - average_staff_picked"
   ]
  },
  {
   "cell_type": "code",
   "execution_count": 15,
   "metadata": {},
   "outputs": [],
   "source": [
    "analysis['abs_dist_from_mean'] = analysis['dist_from_mean'].abs()"
   ]
  },
  {
   "cell_type": "code",
   "execution_count": 16,
   "metadata": {},
   "outputs": [
    {
     "data": {
      "text/plain": [
       "0    1.096154\n",
       "1    6.903846\n",
       "2    0.903846\n",
       "3    1.096154\n",
       "4    4.096154\n",
       "Name: abs_dist_from_mean, dtype: float64"
      ]
     },
     "execution_count": 16,
     "metadata": {},
     "output_type": "execute_result"
    }
   ],
   "source": [
    "analysis['abs_dist_from_mean'].head()"
   ]
  },
  {
   "cell_type": "code",
   "execution_count": 17,
   "metadata": {},
   "outputs": [],
   "source": [
    "from sklearn.model_selection import train_test_split\n"
   ]
  },
  {
   "cell_type": "code",
   "execution_count": 18,
   "metadata": {},
   "outputs": [],
   "source": [
    "analysis.drop('Unnamed: 0',axis=1,inplace=True)"
   ]
  },
  {
   "cell_type": "code",
   "execution_count": 19,
   "metadata": {},
   "outputs": [
    {
     "data": {
      "text/plain": [
       "backers_count                                                              22\n",
       "blurb                       See some cool illustrations, Help make them av...\n",
       "converted_pledged_amount                                                  634\n",
       "country                                                                    US\n",
       "created_at                                                         1361602103\n",
       "currency                                                                  USD\n",
       "deadline                                                           1367651035\n",
       "goal                                                                      600\n",
       "id                                                                 1082237073\n",
       "is_starrable                                                            FALSE\n",
       "launched_at                                                        1365059035\n",
       "name                                             The Curious Concepts Project\n",
       "pledged                                                                   634\n",
       "slug                                             the-curious-concepts-project\n",
       "source_url                  https://www.kickstarter.com/discover/categorie...\n",
       "spotlight                                                                True\n",
       "staff_pick                                                                  0\n",
       "state                                                                      NY\n",
       "state_changed_at                                                   1367651037\n",
       "static_usd_rate                                                             1\n",
       "usd_pledged                                                               634\n",
       "usd_type                                                             domestic\n",
       "permissions                                                               NaN\n",
       "clean_category                                                            art\n",
       "subcategory                                                      illustration\n",
       "photo_link                  https://ksr-ugc.imgix.net/assets/011/485/371/d...\n",
       "clean_country                                                              US\n",
       "town                                                                 Lockport\n",
       "location_type                                                            Town\n",
       "project_url                 https://www.kickstarter.com/projects/690850738...\n",
       "reward_url                  https://www.kickstarter.com/projects/690850738...\n",
       "Description                  >>>>>The Story of This Project<<<<<----++----...\n",
       "Rewards                                                                    11\n",
       "current_status                                                              1\n",
       "duration                                                              2592000\n",
       "length_of_blurb                                                            20\n",
       "avg_goal_reward_level                                                 54.5455\n",
       "dist_from_mean                                                        1.09615\n",
       "abs_dist_from_mean                                                    1.09615\n",
       "Name: 0, dtype: object"
      ]
     },
     "execution_count": 19,
     "metadata": {},
     "output_type": "execute_result"
    }
   ],
   "source": [
    "analysis.iloc[0]"
   ]
  },
  {
   "cell_type": "code",
   "execution_count": 20,
   "metadata": {},
   "outputs": [
    {
     "data": {
      "text/plain": [
       "array([1, 0])"
      ]
     },
     "execution_count": 20,
     "metadata": {},
     "output_type": "execute_result"
    }
   ],
   "source": [
    "analysis.current_status.replace('1',1,inplace=True)\n",
    "analysis.current_status.replace('0',0,inplace=True)\n",
    "analysis.current_status.replace('live',0,inplace=True)\n",
    "analysis.current_status.replace('suspended',0,inplace=True)\n",
    "analysis.current_status.replace('canceled',0,inplace=True)\n",
    "\n",
    "# analysis = analysis[analysis.current_status !='live']\n",
    "# analysis = analysis[analysis.current_status !='suspended']\n",
    "# analysis = analysis[analysis.current_status !='canceled']\n",
    "analysis.current_status.unique()"
   ]
  },
  {
   "cell_type": "code",
   "execution_count": 21,
   "metadata": {},
   "outputs": [
    {
     "data": {
      "text/plain": [
       "Index([u'backers_count', u'blurb', u'converted_pledged_amount', u'country',\n",
       "       u'created_at', u'currency', u'deadline', u'goal', u'id',\n",
       "       u'is_starrable', u'launched_at', u'name', u'pledged', u'slug',\n",
       "       u'source_url', u'spotlight', u'staff_pick', u'state',\n",
       "       u'state_changed_at', u'static_usd_rate', u'usd_pledged', u'usd_type',\n",
       "       u'permissions', u'clean_category', u'subcategory', u'photo_link',\n",
       "       u'clean_country', u'town', u'location_type', u'project_url',\n",
       "       u'reward_url', u'Description', u'Rewards', u'current_status',\n",
       "       u'duration', u'length_of_blurb', u'avg_goal_reward_level',\n",
       "       u'dist_from_mean', u'abs_dist_from_mean'],\n",
       "      dtype='object')"
      ]
     },
     "execution_count": 21,
     "metadata": {},
     "output_type": "execute_result"
    }
   ],
   "source": [
    "analysis.columns\n"
   ]
  },
  {
   "cell_type": "code",
   "execution_count": 22,
   "metadata": {},
   "outputs": [],
   "source": [
    "features = ['goal','duration','length_of_blurb','avg_goal_reward_level','abs_dist_from_mean','clean_category','subcategory','state','country','town','staff_pick','Rewards']\n",
    "target = 'current_status'"
   ]
  },
  {
   "cell_type": "code",
   "execution_count": 23,
   "metadata": {},
   "outputs": [],
   "source": [
    "X = analysis[features]\n",
    "y= analysis[target]\n",
    "from sklearn import preprocessing,metrics\n",
    "sub_category_dummy = pd.get_dummies(X['subcategory'])\n",
    "category_dummy =  pd.get_dummies(X['clean_category'])\n",
    "X = X.join(sub_category_dummy)\n",
    "X = X.join(category_dummy)\n",
    "X = X.drop(['subcategory','clean_category'],axis=1)\n",
    "country_dummy = pd.get_dummies(X['country'])\n",
    "X = X.join(country_dummy)\n",
    "X = X.drop(['country','state','town'],axis=1)"
   ]
  },
  {
   "cell_type": "code",
   "execution_count": 24,
   "metadata": {},
   "outputs": [],
   "source": [
    "X_train, X_res, y_train, y_res = train_test_split(X, y, test_size=0.4, random_state=42)"
   ]
  },
  {
   "cell_type": "code",
   "execution_count": 25,
   "metadata": {},
   "outputs": [],
   "source": [
    "X_test,X_validate,y_test,y_validate = train_test_split(X_res, y_res, test_size=0.5, random_state=42)"
   ]
  },
  {
   "cell_type": "code",
   "execution_count": 26,
   "metadata": {},
   "outputs": [
    {
     "name": "stdout",
     "output_type": "stream",
     "text": [
      "468\n",
      "1404\n",
      "468\n"
     ]
    }
   ],
   "source": [
    "print len(X_validate)\n",
    "print len(X_train)\n",
    "print len(X_test)"
   ]
  },
  {
   "cell_type": "code",
   "execution_count": 27,
   "metadata": {},
   "outputs": [
    {
     "data": {
      "text/html": [
       "<div>\n",
       "<style>\n",
       "    .dataframe thead tr:only-child th {\n",
       "        text-align: right;\n",
       "    }\n",
       "\n",
       "    .dataframe thead th {\n",
       "        text-align: left;\n",
       "    }\n",
       "\n",
       "    .dataframe tbody tr th {\n",
       "        vertical-align: top;\n",
       "    }\n",
       "</style>\n",
       "<table border=\"1\" class=\"dataframe\">\n",
       "  <thead>\n",
       "    <tr style=\"text-align: right;\">\n",
       "      <th></th>\n",
       "      <th>goal</th>\n",
       "      <th>duration</th>\n",
       "      <th>length_of_blurb</th>\n",
       "      <th>avg_goal_reward_level</th>\n",
       "      <th>abs_dist_from_mean</th>\n",
       "      <th>staff_pick</th>\n",
       "      <th>Rewards</th>\n",
       "      <th>digital art</th>\n",
       "      <th>illustration</th>\n",
       "      <th>installations</th>\n",
       "      <th>...</th>\n",
       "      <th>IE</th>\n",
       "      <th>IT</th>\n",
       "      <th>LU</th>\n",
       "      <th>MX</th>\n",
       "      <th>NL</th>\n",
       "      <th>NO</th>\n",
       "      <th>NZ</th>\n",
       "      <th>SE</th>\n",
       "      <th>SG</th>\n",
       "      <th>US</th>\n",
       "    </tr>\n",
       "  </thead>\n",
       "  <tbody>\n",
       "    <tr>\n",
       "      <th>0</th>\n",
       "      <td>600.0</td>\n",
       "      <td>2592000</td>\n",
       "      <td>20</td>\n",
       "      <td>54.545455</td>\n",
       "      <td>1.096154</td>\n",
       "      <td>0</td>\n",
       "      <td>11</td>\n",
       "      <td>0</td>\n",
       "      <td>1</td>\n",
       "      <td>0</td>\n",
       "      <td>...</td>\n",
       "      <td>0</td>\n",
       "      <td>0</td>\n",
       "      <td>0</td>\n",
       "      <td>0</td>\n",
       "      <td>0</td>\n",
       "      <td>0</td>\n",
       "      <td>0</td>\n",
       "      <td>0</td>\n",
       "      <td>0</td>\n",
       "      <td>1</td>\n",
       "    </tr>\n",
       "    <tr>\n",
       "      <th>1</th>\n",
       "      <td>1000.0</td>\n",
       "      <td>2163625</td>\n",
       "      <td>12</td>\n",
       "      <td>250.000000</td>\n",
       "      <td>6.903846</td>\n",
       "      <td>0</td>\n",
       "      <td>4</td>\n",
       "      <td>0</td>\n",
       "      <td>1</td>\n",
       "      <td>0</td>\n",
       "      <td>...</td>\n",
       "      <td>0</td>\n",
       "      <td>0</td>\n",
       "      <td>0</td>\n",
       "      <td>0</td>\n",
       "      <td>0</td>\n",
       "      <td>0</td>\n",
       "      <td>0</td>\n",
       "      <td>0</td>\n",
       "      <td>0</td>\n",
       "      <td>1</td>\n",
       "    </tr>\n",
       "    <tr>\n",
       "      <th>2</th>\n",
       "      <td>300.0</td>\n",
       "      <td>2592000</td>\n",
       "      <td>18</td>\n",
       "      <td>30.000000</td>\n",
       "      <td>0.903846</td>\n",
       "      <td>0</td>\n",
       "      <td>10</td>\n",
       "      <td>0</td>\n",
       "      <td>1</td>\n",
       "      <td>0</td>\n",
       "      <td>...</td>\n",
       "      <td>0</td>\n",
       "      <td>0</td>\n",
       "      <td>0</td>\n",
       "      <td>0</td>\n",
       "      <td>0</td>\n",
       "      <td>0</td>\n",
       "      <td>0</td>\n",
       "      <td>0</td>\n",
       "      <td>0</td>\n",
       "      <td>1</td>\n",
       "    </tr>\n",
       "    <tr>\n",
       "      <th>3</th>\n",
       "      <td>5000.0</td>\n",
       "      <td>2592000</td>\n",
       "      <td>20</td>\n",
       "      <td>454.545455</td>\n",
       "      <td>1.096154</td>\n",
       "      <td>0</td>\n",
       "      <td>11</td>\n",
       "      <td>0</td>\n",
       "      <td>1</td>\n",
       "      <td>0</td>\n",
       "      <td>...</td>\n",
       "      <td>0</td>\n",
       "      <td>0</td>\n",
       "      <td>0</td>\n",
       "      <td>0</td>\n",
       "      <td>0</td>\n",
       "      <td>0</td>\n",
       "      <td>0</td>\n",
       "      <td>0</td>\n",
       "      <td>0</td>\n",
       "      <td>1</td>\n",
       "    </tr>\n",
       "    <tr>\n",
       "      <th>4</th>\n",
       "      <td>1200.0</td>\n",
       "      <td>2592000</td>\n",
       "      <td>23</td>\n",
       "      <td>80.000000</td>\n",
       "      <td>4.096154</td>\n",
       "      <td>0</td>\n",
       "      <td>15</td>\n",
       "      <td>0</td>\n",
       "      <td>1</td>\n",
       "      <td>0</td>\n",
       "      <td>...</td>\n",
       "      <td>0</td>\n",
       "      <td>0</td>\n",
       "      <td>0</td>\n",
       "      <td>0</td>\n",
       "      <td>0</td>\n",
       "      <td>0</td>\n",
       "      <td>0</td>\n",
       "      <td>0</td>\n",
       "      <td>0</td>\n",
       "      <td>0</td>\n",
       "    </tr>\n",
       "  </tbody>\n",
       "</table>\n",
       "<p>5 rows × 33 columns</p>\n",
       "</div>"
      ],
      "text/plain": [
       "     goal  duration  length_of_blurb  avg_goal_reward_level  \\\n",
       "0   600.0   2592000               20              54.545455   \n",
       "1  1000.0   2163625               12             250.000000   \n",
       "2   300.0   2592000               18              30.000000   \n",
       "3  5000.0   2592000               20             454.545455   \n",
       "4  1200.0   2592000               23              80.000000   \n",
       "\n",
       "   abs_dist_from_mean  staff_pick  Rewards  digital art  illustration  \\\n",
       "0            1.096154           0       11            0             1   \n",
       "1            6.903846           0        4            0             1   \n",
       "2            0.903846           0       10            0             1   \n",
       "3            1.096154           0       11            0             1   \n",
       "4            4.096154           0       15            0             1   \n",
       "\n",
       "   installations ...  IE  IT  LU  MX  NL  NO  NZ  SE  SG  US  \n",
       "0              0 ...   0   0   0   0   0   0   0   0   0   1  \n",
       "1              0 ...   0   0   0   0   0   0   0   0   0   1  \n",
       "2              0 ...   0   0   0   0   0   0   0   0   0   1  \n",
       "3              0 ...   0   0   0   0   0   0   0   0   0   1  \n",
       "4              0 ...   0   0   0   0   0   0   0   0   0   0  \n",
       "\n",
       "[5 rows x 33 columns]"
      ]
     },
     "execution_count": 27,
     "metadata": {},
     "output_type": "execute_result"
    }
   ],
   "source": [
    "X.head()"
   ]
  },
  {
   "cell_type": "code",
   "execution_count": 28,
   "metadata": {},
   "outputs": [
    {
     "data": {
      "text/html": [
       "<div>\n",
       "<style>\n",
       "    .dataframe thead tr:only-child th {\n",
       "        text-align: right;\n",
       "    }\n",
       "\n",
       "    .dataframe thead th {\n",
       "        text-align: left;\n",
       "    }\n",
       "\n",
       "    .dataframe tbody tr th {\n",
       "        vertical-align: top;\n",
       "    }\n",
       "</style>\n",
       "<table border=\"1\" class=\"dataframe\">\n",
       "  <thead>\n",
       "    <tr style=\"text-align: right;\">\n",
       "      <th></th>\n",
       "      <th>goal</th>\n",
       "      <th>duration</th>\n",
       "      <th>length_of_blurb</th>\n",
       "      <th>avg_goal_reward_level</th>\n",
       "      <th>abs_dist_from_mean</th>\n",
       "      <th>staff_pick</th>\n",
       "      <th>Rewards</th>\n",
       "      <th>digital art</th>\n",
       "      <th>illustration</th>\n",
       "      <th>installations</th>\n",
       "      <th>...</th>\n",
       "      <th>IE</th>\n",
       "      <th>IT</th>\n",
       "      <th>LU</th>\n",
       "      <th>MX</th>\n",
       "      <th>NL</th>\n",
       "      <th>NO</th>\n",
       "      <th>NZ</th>\n",
       "      <th>SE</th>\n",
       "      <th>SG</th>\n",
       "      <th>US</th>\n",
       "    </tr>\n",
       "  </thead>\n",
       "  <tbody>\n",
       "    <tr>\n",
       "      <th>0</th>\n",
       "      <td>600.0</td>\n",
       "      <td>2592000</td>\n",
       "      <td>20</td>\n",
       "      <td>54.545455</td>\n",
       "      <td>1.096154</td>\n",
       "      <td>0</td>\n",
       "      <td>11</td>\n",
       "      <td>0</td>\n",
       "      <td>1</td>\n",
       "      <td>0</td>\n",
       "      <td>...</td>\n",
       "      <td>0</td>\n",
       "      <td>0</td>\n",
       "      <td>0</td>\n",
       "      <td>0</td>\n",
       "      <td>0</td>\n",
       "      <td>0</td>\n",
       "      <td>0</td>\n",
       "      <td>0</td>\n",
       "      <td>0</td>\n",
       "      <td>1</td>\n",
       "    </tr>\n",
       "    <tr>\n",
       "      <th>1</th>\n",
       "      <td>1000.0</td>\n",
       "      <td>2163625</td>\n",
       "      <td>12</td>\n",
       "      <td>250.000000</td>\n",
       "      <td>6.903846</td>\n",
       "      <td>0</td>\n",
       "      <td>4</td>\n",
       "      <td>0</td>\n",
       "      <td>1</td>\n",
       "      <td>0</td>\n",
       "      <td>...</td>\n",
       "      <td>0</td>\n",
       "      <td>0</td>\n",
       "      <td>0</td>\n",
       "      <td>0</td>\n",
       "      <td>0</td>\n",
       "      <td>0</td>\n",
       "      <td>0</td>\n",
       "      <td>0</td>\n",
       "      <td>0</td>\n",
       "      <td>1</td>\n",
       "    </tr>\n",
       "    <tr>\n",
       "      <th>2</th>\n",
       "      <td>300.0</td>\n",
       "      <td>2592000</td>\n",
       "      <td>18</td>\n",
       "      <td>30.000000</td>\n",
       "      <td>0.903846</td>\n",
       "      <td>0</td>\n",
       "      <td>10</td>\n",
       "      <td>0</td>\n",
       "      <td>1</td>\n",
       "      <td>0</td>\n",
       "      <td>...</td>\n",
       "      <td>0</td>\n",
       "      <td>0</td>\n",
       "      <td>0</td>\n",
       "      <td>0</td>\n",
       "      <td>0</td>\n",
       "      <td>0</td>\n",
       "      <td>0</td>\n",
       "      <td>0</td>\n",
       "      <td>0</td>\n",
       "      <td>1</td>\n",
       "    </tr>\n",
       "    <tr>\n",
       "      <th>3</th>\n",
       "      <td>5000.0</td>\n",
       "      <td>2592000</td>\n",
       "      <td>20</td>\n",
       "      <td>454.545455</td>\n",
       "      <td>1.096154</td>\n",
       "      <td>0</td>\n",
       "      <td>11</td>\n",
       "      <td>0</td>\n",
       "      <td>1</td>\n",
       "      <td>0</td>\n",
       "      <td>...</td>\n",
       "      <td>0</td>\n",
       "      <td>0</td>\n",
       "      <td>0</td>\n",
       "      <td>0</td>\n",
       "      <td>0</td>\n",
       "      <td>0</td>\n",
       "      <td>0</td>\n",
       "      <td>0</td>\n",
       "      <td>0</td>\n",
       "      <td>1</td>\n",
       "    </tr>\n",
       "    <tr>\n",
       "      <th>4</th>\n",
       "      <td>1200.0</td>\n",
       "      <td>2592000</td>\n",
       "      <td>23</td>\n",
       "      <td>80.000000</td>\n",
       "      <td>4.096154</td>\n",
       "      <td>0</td>\n",
       "      <td>15</td>\n",
       "      <td>0</td>\n",
       "      <td>1</td>\n",
       "      <td>0</td>\n",
       "      <td>...</td>\n",
       "      <td>0</td>\n",
       "      <td>0</td>\n",
       "      <td>0</td>\n",
       "      <td>0</td>\n",
       "      <td>0</td>\n",
       "      <td>0</td>\n",
       "      <td>0</td>\n",
       "      <td>0</td>\n",
       "      <td>0</td>\n",
       "      <td>0</td>\n",
       "    </tr>\n",
       "  </tbody>\n",
       "</table>\n",
       "<p>5 rows × 33 columns</p>\n",
       "</div>"
      ],
      "text/plain": [
       "     goal  duration  length_of_blurb  avg_goal_reward_level  \\\n",
       "0   600.0   2592000               20              54.545455   \n",
       "1  1000.0   2163625               12             250.000000   \n",
       "2   300.0   2592000               18              30.000000   \n",
       "3  5000.0   2592000               20             454.545455   \n",
       "4  1200.0   2592000               23              80.000000   \n",
       "\n",
       "   abs_dist_from_mean  staff_pick  Rewards  digital art  illustration  \\\n",
       "0            1.096154           0       11            0             1   \n",
       "1            6.903846           0        4            0             1   \n",
       "2            0.903846           0       10            0             1   \n",
       "3            1.096154           0       11            0             1   \n",
       "4            4.096154           0       15            0             1   \n",
       "\n",
       "   installations ...  IE  IT  LU  MX  NL  NO  NZ  SE  SG  US  \n",
       "0              0 ...   0   0   0   0   0   0   0   0   0   1  \n",
       "1              0 ...   0   0   0   0   0   0   0   0   0   1  \n",
       "2              0 ...   0   0   0   0   0   0   0   0   0   1  \n",
       "3              0 ...   0   0   0   0   0   0   0   0   0   1  \n",
       "4              0 ...   0   0   0   0   0   0   0   0   0   0  \n",
       "\n",
       "[5 rows x 33 columns]"
      ]
     },
     "execution_count": 28,
     "metadata": {},
     "output_type": "execute_result"
    }
   ],
   "source": [
    "X.head()"
   ]
  },
  {
   "cell_type": "code",
   "execution_count": 29,
   "metadata": {},
   "outputs": [
    {
     "data": {
      "text/plain": [
       "RandomForestRegressor(bootstrap=True, criterion='mse', max_depth=None,\n",
       "           max_features='auto', max_leaf_nodes=None,\n",
       "           min_impurity_decrease=0.0, min_impurity_split=None,\n",
       "           min_samples_leaf=1, min_samples_split=2,\n",
       "           min_weight_fraction_leaf=0.0, n_estimators=30, n_jobs=1,\n",
       "           oob_score=False, random_state=42, verbose=0, warm_start=False)"
      ]
     },
     "execution_count": 29,
     "metadata": {},
     "output_type": "execute_result"
    }
   ],
   "source": [
    "y = y.astype(int)\n",
    "X_train, X_res, y_train, y_res = train_test_split(X, y, test_size=0.4, random_state=42)\n",
    "X_test,X_validate,y_test,y_validate = train_test_split(X_res, y_res, test_size=0.5, random_state=42)\n",
    "from sklearn.ensemble import RandomForestRegressor\n",
    "rf = RandomForestRegressor(n_estimators = 30, random_state = 42)\n",
    "rf.fit(X_train,y_train)"
   ]
  },
  {
   "cell_type": "code",
   "execution_count": 30,
   "metadata": {},
   "outputs": [
    {
     "name": "stdout",
     "output_type": "stream",
     "text": [
      "0.34615\n"
     ]
    }
   ],
   "source": [
    "predictions = rf.predict(X_validate)\n",
    "predictions = (predictions>0.501).astype(int) \n",
    "# predictions\n",
    "# y_validate\n",
    "# Calculate the absolute errors\n",
    "# y_validate\n",
    "errors = abs(predictions - y_validate)\n",
    "# # Print out the mean absolute error (mae)\n",
    "# print('Mean Absolute Error:', round(np.mean(errors), 2), 'degrees.'\n",
    "print round(np.mean(errors),5)"
   ]
  },
  {
   "cell_type": "code",
   "execution_count": 31,
   "metadata": {},
   "outputs": [
    {
     "data": {
      "text/plain": [
       "0.6538461538461539"
      ]
     },
     "execution_count": 31,
     "metadata": {},
     "output_type": "execute_result"
    }
   ],
   "source": [
    "metrics.accuracy_score(y_validate,predictions)"
   ]
  },
  {
   "cell_type": "code",
   "execution_count": 32,
   "metadata": {},
   "outputs": [
    {
     "data": {
      "text/plain": [
       "array([[127,  82],\n",
       "       [ 80, 179]])"
      ]
     },
     "execution_count": 32,
     "metadata": {},
     "output_type": "execute_result"
    }
   ],
   "source": [
    "metrics.confusion_matrix(y_validate,predictions)"
   ]
  },
  {
   "cell_type": "code",
   "execution_count": 33,
   "metadata": {},
   "outputs": [
    {
     "data": {
      "text/plain": [
       "Index([u'goal', u'duration', u'length_of_blurb', u'avg_goal_reward_level',\n",
       "       u'abs_dist_from_mean', u'staff_pick', u'Rewards', u'digital art',\n",
       "       u'illustration', u'installations', u'mixed media', u'art', u'AT', u'AU',\n",
       "       u'BE', u'CA', u'CH', u'DE', u'DK', u'ES', u'FR', u'GB', u'HK', u'IE',\n",
       "       u'IT', u'LU', u'MX', u'NL', u'NO', u'NZ', u'SE', u'SG', u'US'],\n",
       "      dtype='object')"
      ]
     },
     "execution_count": 33,
     "metadata": {},
     "output_type": "execute_result"
    }
   ],
   "source": [
    "X.columns\n"
   ]
  },
  {
   "cell_type": "code",
   "execution_count": 34,
   "metadata": {},
   "outputs": [],
   "source": [
    "X.to_csv('head.csv')"
   ]
  },
  {
   "cell_type": "code",
   "execution_count": 35,
   "metadata": {},
   "outputs": [],
   "source": [
    "# final_csv =X.join(analysis['Description'])"
   ]
  },
  {
   "cell_type": "code",
   "execution_count": 36,
   "metadata": {},
   "outputs": [],
   "source": [
    "final_csv = X.join(analysis['current_status'])"
   ]
  },
  {
   "cell_type": "code",
   "execution_count": 37,
   "metadata": {},
   "outputs": [],
   "source": [
    "final_csv.to_csv('final_analysis_file')"
   ]
  },
  {
   "cell_type": "code",
   "execution_count": 38,
   "metadata": {},
   "outputs": [],
   "source": [
    "sentiment_df = pd.read_csv('sentiment.csv')\n"
   ]
  },
  {
   "cell_type": "code",
   "execution_count": 39,
   "metadata": {},
   "outputs": [],
   "source": [
    "sentiment_df.drop(['project_url'],axis=1,inplace=True)"
   ]
  },
  {
   "cell_type": "code",
   "execution_count": 40,
   "metadata": {},
   "outputs": [],
   "source": [
    "final_csv = final_csv.join(sentiment_df)"
   ]
  },
  {
   "cell_type": "code",
   "execution_count": 41,
   "metadata": {},
   "outputs": [],
   "source": [
    "desc_df = pd.read_csv('LIWCresults.csv')"
   ]
  },
  {
   "cell_type": "code",
   "execution_count": 42,
   "metadata": {},
   "outputs": [],
   "source": [
    "final_csv = final_csv.join(desc_df)"
   ]
  },
  {
   "cell_type": "code",
   "execution_count": 43,
   "metadata": {},
   "outputs": [
    {
     "name": "stdout",
     "output_type": "stream",
     "text": [
      "goal\n",
      "duration\n",
      "length_of_blurb\n",
      "avg_goal_reward_level\n",
      "abs_dist_from_mean\n",
      "staff_pick\n",
      "Rewards\n",
      "digital art\n",
      "illustration\n",
      "installations\n",
      "mixed media\n",
      "art\n",
      "AT\n",
      "AU\n",
      "BE\n",
      "CA\n",
      "CH\n",
      "DE\n",
      "DK\n",
      "ES\n",
      "FR\n",
      "GB\n",
      "HK\n",
      "IE\n",
      "IT\n",
      "LU\n",
      "MX\n",
      "NL\n",
      "NO\n",
      "NZ\n",
      "SE\n",
      "SG\n",
      "US\n",
      "current_status\n",
      "sentimen_score\n",
      "Source (A)\n",
      "WC\n",
      "Analytic\n",
      "Clout\n",
      "Authentic\n",
      "Tone\n",
      "WPS\n",
      "Sixltr\n",
      "Dic\n",
      "function\n",
      "pronoun\n",
      "ppron\n",
      "i\n",
      "we\n",
      "you\n",
      "shehe\n",
      "they\n",
      "ipron\n",
      "article\n",
      "prep\n",
      "auxverb\n",
      "adverb\n",
      "conj\n",
      "negate\n",
      "verb\n",
      "adj\n",
      "compare\n",
      "interrog\n",
      "number\n",
      "quant\n",
      "affect\n",
      "posemo\n",
      "negemo\n",
      "anx\n",
      "anger\n",
      "sad\n",
      "social\n",
      "family\n",
      "friend\n",
      "female\n",
      "male\n",
      "cogproc\n",
      "insight\n",
      "cause\n",
      "discrep\n",
      "tentat\n",
      "certain\n",
      "differ\n",
      "percept\n",
      "see\n",
      "hear\n",
      "feel\n",
      "bio\n",
      "body\n",
      "health\n",
      "sexual\n",
      "ingest\n",
      "drives\n",
      "affiliation\n",
      "achieve\n",
      "power\n",
      "reward\n",
      "risk\n",
      "focuspast\n",
      "focuspresent\n",
      "focusfuture\n",
      "relativ\n",
      "motion\n",
      "space\n",
      "time\n",
      "work\n",
      "leisure\n",
      "home\n",
      "money\n",
      "relig\n",
      "death\n",
      "informal\n",
      "swear\n",
      "netspeak\n",
      "assent\n",
      "nonflu\n",
      "filler\n",
      "AllPunc\n",
      "Period\n",
      "Comma\n",
      "Colon\n",
      "SemiC\n",
      "QMark\n",
      "Exclam\n",
      "Dash\n",
      "Quote\n",
      "Apostro\n",
      "Parenth\n",
      "OtherP\n"
     ]
    }
   ],
   "source": [
    "for i in final_csv.columns:\n",
    "    print i"
   ]
  },
  {
   "cell_type": "code",
   "execution_count": 137,
   "metadata": {},
   "outputs": [],
   "source": [
    "final_csv.drop(drop_cols,inplace=True,axis=1)"
   ]
  },
  {
   "cell_type": "code",
   "execution_count": 215,
   "metadata": {},
   "outputs": [
    {
     "name": "stdout",
     "output_type": "stream",
     "text": [
      "0.7200854700854701\n"
     ]
    }
   ],
   "source": [
    "\n",
    "X_train, X_res, y_train, y_res = train_test_split(final_csv, y, test_size=0.4, random_state=42)\n",
    "X_test,X_validate,y_test,y_validate = train_test_split(X_res, y_res, test_size=0.5, random_state=42)\n",
    "from sklearn.ensemble import RandomForestRegressor\n",
    "rf = RandomForestRegressor(n_estimators = 36, random_state = 42)\n",
    "rf.fit(X_train,y_train)\n",
    "predictions = rf.predict(X_validate)\n",
    "predictions = (predictions>0.501).astype(int) \n",
    "print metrics.accuracy_score(y_validate,predictions)\n",
    "# print predictions\n",
    "# y_validate\n",
    "# Calculate the absolute errors\n",
    "# y_validate\n",
    "#     errors = abs(predictions - y_validate)\n",
    "# # Print out the mean absolute error (mae)\n",
    "# print('Mean Absolute Error:', round(np.mean(errors), 2), 'degrees.'print metrics.accuracy_score(y_validate,predictions)\n",
    "#     predictions = rf.predict(X_test)\n",
    "#     predictions = (predictions>0.5).astype(int) \n",
    "#     print metrics.accuracy_score(y_test,predictions)"
   ]
  },
  {
   "cell_type": "code",
   "execution_count": 139,
   "metadata": {},
   "outputs": [
    {
     "name": "stdout",
     "output_type": "stream",
     "text": [
      "[1 0 1 0 0 1 1 0 1 0 0 0 0 0 0 1 1 1 0 1 1 0 1 0 1 0 0 1 1 1 1 1 1 0 0 1 1\n",
      " 0 1 0 0 1 1 1 0 0 1 0 0 1 1 0 0 1 1 1 0 0 1 1 1 1 1 1 1 1 1 1 1 1 1 1 1 1\n",
      " 0 1 1 1 0 1 1 0 1 0 0 0 1 1 1 0 1 0 1 0 0 0 1 0 0 1 1 0 0 0 0 1 1 0 0 0 1\n",
      " 0 1 1 1 1 0 1 0 1 1 0 1 0 1 0 1 1 1 1 1 0 0 0 0 0 1 1 1 0 0 1 1 1 0 0 1 0\n",
      " 1 0 1 1 1 1 1 1 1 1 1 0 0 0 0 0 1 0 1 1 0 1 1 1 1 0 0 0 1 1 0 0 1 1 1 1 1\n",
      " 1 1 1 1 1 0 0 1 0 0 0 0 1 1 0 0 0 1 1 1 1 1 0 1 0 1 0 1 0 1 1 0 1 1 1 0 1\n",
      " 1 0 1 0 1 0 1 1 1 1 1 0 0 1 1 1 1 1 1 0 1 1 0 0 0 1 0 0 1 1 1 0 1 1 0 1 1\n",
      " 1 1 0 1 1 1 0 1 0 1 1 1 1 1 1 1 1 0 1 0 1 0 0 0 1 0 1 1 0 1 0 0 0 0 0 1 1\n",
      " 1 1 1 0 1 0 0 1 1 1 0 1 1 1 1 0 1 0 0 0 1 1 1 0 0 1 1 0 1 1 0 1 0 1 1 1 1\n",
      " 1 1 1 1 0 1 0 0 0 1 1 0 1 1 1 0 0 1 0 1 1 0 1 0 1 1 0 0 0 1 0 0 1 1 1 0 1\n",
      " 1 1 1 1 0 0 0 1 1 1 1 1 1 1 1 1 0 1 1 1 1 1 1 1 0 1 1 0 0 1 1 1 0 0 1 0 0\n",
      " 1 0 0 1 0 0 1 1 1 1 0 1 0 1 0 0 0 0 0 1 1 1 0 1 0 1 1 1 1 1 0 1 0 0 1 0 0\n",
      " 0 0 1 1 0 1 1 1 1 0 0 1 0 1 0 1 1 0 1 0 1 1 1 1]\n"
     ]
    }
   ],
   "source": [
    "predictions = rf.predict(X_validate)\n",
    "predictions = (predictions>0.501).astype(int) \n",
    "print predictions\n",
    "# y_validate\n",
    "# Calculate the absolute errors\n",
    "# y_validate\n",
    "errors = abs(predictions - y_validate)\n",
    "# # Print out the mean absolute error (mae)\n",
    "# print('Mean Absolute Error:', round(np.mean(errors), 2), 'degrees.'\n"
   ]
  },
  {
   "cell_type": "code",
   "execution_count": 216,
   "metadata": {},
   "outputs": [
    {
     "name": "stdout",
     "output_type": "stream",
     "text": [
      "0.7200854700854701\n"
     ]
    }
   ],
   "source": [
    "print metrics.accuracy_score(y_validate,predictions)"
   ]
  },
  {
   "cell_type": "code",
   "execution_count": 217,
   "metadata": {},
   "outputs": [
    {
     "name": "stdout",
     "output_type": "stream",
     "text": [
      "0.7136752136752137\n"
     ]
    }
   ],
   "source": [
    "predictions = rf.predict(X_test)\n",
    "predictions = (predictions>0.5).astype(int) \n",
    "print metrics.accuracy_score(y_test,predictions)"
   ]
  },
  {
   "cell_type": "code",
   "execution_count": 218,
   "metadata": {},
   "outputs": [
    {
     "name": "stdout",
     "output_type": "stream",
     "text": [
      "Features sorted by their score:\n",
      "(0.1615, 'avg_goal_reward_level')\n",
      "(0.0512, 'Dic')\n",
      "(0.0302, 'Exclam')\n",
      "(0.0266, 'you')\n",
      "(0.0244, 'Rewards')\n",
      "(0.0203, 'duration')\n",
      "(0.0183, 'Parenth')\n",
      "(0.0163, 'Apostro')\n",
      "(0.0157, 'conj')\n",
      "(0.0148, 'AllPunc')\n",
      "(0.0131, 'OtherP')\n",
      "(0.0129, 'sentimen_score')\n",
      "(0.0122, 'prep')\n",
      "(0.0121, 'focuspresent')\n",
      "(0.0119, 'WPS')\n",
      "(0.0115, 'Clout')\n",
      "(0.0114, 'adverb')\n",
      "(0.0108, 'Sixltr')\n",
      "(0.0106, 'ppron')\n",
      "(0.0105, 'leisure')\n",
      "(0.0105, 'Colon')\n",
      "(0.0102, 'WC')\n",
      "(0.01, 'Dash')\n",
      "(0.0097, 'Tone')\n",
      "(0.0096, 'verb')\n",
      "(0.0096, 'compare')\n",
      "(0.0095, 'space')\n",
      "(0.0094, 'time')\n",
      "(0.0094, 'achieve')\n",
      "(0.0094, 'Period')\n",
      "(0.0093, 'goal')\n",
      "(0.009, 'i')\n",
      "(0.009, 'article')\n",
      "(0.0089, 'quant')\n",
      "(0.0088, 'negemo')\n",
      "(0.0088, 'body')\n",
      "(0.0087, 'money')\n",
      "(0.0086, 'discrep')\n",
      "(0.0084, 'work')\n",
      "(0.0084, 'power')\n",
      "(0.0083, 'posemo')\n",
      "(0.0083, 'focuspast')\n",
      "(0.0082, 'cogproc')\n",
      "(0.0081, 'home')\n",
      "(0.0081, 'affiliation')\n",
      "(0.008, 'certain')\n",
      "(0.0079, 'social')\n",
      "(0.0079, 'interrog')\n",
      "(0.0078, 'ipron')\n",
      "(0.0077, 'insight')\n",
      "(0.0076, 'percept')\n",
      "(0.0074, 'motion')\n",
      "(0.0074, 'affect')\n",
      "(0.0073, 'reward')\n",
      "(0.0073, 'pronoun')\n",
      "(0.0071, 'tentat')\n",
      "(0.0069, 'relativ')\n",
      "(0.0069, 'number')\n",
      "(0.0068, 'focusfuture')\n",
      "(0.0067, 'drives')\n",
      "(0.0067, 'differ')\n",
      "(0.0065, 'cause')\n",
      "(0.0064, 'Comma')\n",
      "(0.0064, 'Analytic')\n",
      "(0.0063, 'feel')\n",
      "(0.0063, 'adj')\n",
      "(0.0062, 'staff_pick')\n",
      "(0.0062, 'see')\n",
      "(0.0061, 'they')\n",
      "(0.006, 'informal')\n",
      "(0.006, 'function')\n",
      "(0.0059, 'male')\n",
      "(0.0059, 'auxverb')\n",
      "(0.0058, 'bio')\n",
      "(0.0057, 'health')\n",
      "(0.0057, 'abs_dist_from_mean')\n",
      "(0.0051, 'we')\n",
      "(0.005, 'female')\n",
      "(0.005, 'assent')\n",
      "(0.0049, 'length_of_blurb')\n",
      "(0.0048, 'shehe')\n",
      "(0.0048, 'Authentic')\n",
      "(0.0044, 'mixed media')\n",
      "(0.0044, 'Quote')\n",
      "(0.0044, 'QMark')\n",
      "(0.0043, 'sexual')\n",
      "(0.0039, 'hear')\n",
      "(0.0037, 'nonflu')\n",
      "(0.0033, 'reciprocity')\n",
      "(0.0028, 'collective')\n",
      "(0.0025, 'thankfullness')\n",
      "(0.0024, 'social_relationship')\n",
      "(0.0018, 'pitch')\n",
      "(0.0015, 'emotional_appeal')\n"
     ]
    }
   ],
   "source": [
    "names = X_train.columns\n",
    "print \"Features sorted by their score:\"\n",
    "for i in sorted(zip(map(lambda x: round(x, 4), rf.feature_importances_), names), \n",
    "              reverse=True):\n",
    "    print i\n"
   ]
  },
  {
   "cell_type": "code",
   "execution_count": 146,
   "metadata": {},
   "outputs": [
    {
     "name": "stdout",
     "output_type": "stream",
     "text": [
      " TATTOO CLUBTattoo Club is here to make collectible packs of limited-edition temporary monster tattoos, illustrated by some of the world's best creators! Follow us on Twitter, Facebook, and our��blog. The MONSTER PACK features 16 original tattoos drawn by our favorite creators.��Money will be used for printing our high-quality temporary tattoos, packaging, and shipping.MONSTER PACK ARTISTSMeg Hunt��(Disney, Cartoon Network, the Washington Post)Jeffrey Lamm��(Greasebat)Ghostshrimp��(Adventure Time, Flapjack, NY Times)Bob Flynn��(Heeby Jeeby Comix, SpongeBob Comics, Nickelodeon Magazine)Drew Millward��(Primus, Phish)Chris \"Elio\" Eliopoulos��(Nick Jr, Yo Gabba Gabba, Disney Animation Studios)Sam Alden��(Eighth Grade��comic book novel)Julia Green (Ten Paces & Draw, Boise Weekly)Jess Smart Smiley��(Emanata, Top Shelf Productions, Monster Coloring Book)\n"
     ]
    }
   ],
   "source": [
    "print str(analysis.iloc[1300]['Description'])"
   ]
  },
  {
   "cell_type": "code",
   "execution_count": 151,
   "metadata": {},
   "outputs": [
    {
     "data": {
      "text/plain": [
       "0.6752136752136753"
      ]
     },
     "execution_count": 151,
     "metadata": {},
     "output_type": "execute_result"
    }
   ],
   "source": [
    "import statsmodels.api as sm\n",
    "model = sm.OLS(y_train, X_train).fit()\n",
    "predictions = model.predict(X_validate) # make the predictions by the model\n",
    "predictions = (predictions>0.501).astype(int) \n",
    "metrics.accuracy_score(y_validate,predictions)\n"
   ]
  },
  {
   "cell_type": "code",
   "execution_count": 153,
   "metadata": {},
   "outputs": [
    {
     "data": {
      "text/html": [
       "<table class=\"simpletable\">\n",
       "<tr>\n",
       "        <td>Model:</td>               <td>OLS</td>         <td>Adj. R-squared:</td>     <td>0.668</td>  \n",
       "</tr>\n",
       "<tr>\n",
       "  <td>Dependent Variable:</td>  <td>current_status</td>         <td>AIC:</td>         <td>1767.0848</td>\n",
       "</tr>\n",
       "<tr>\n",
       "         <td>Date:</td>        <td>2018-05-26 19:57</td>        <td>BIC:</td>         <td>2228.8279</td>\n",
       "</tr>\n",
       "<tr>\n",
       "   <td>No. Observations:</td>        <td>1404</td>         <td>Log-Likelihood:</td>    <td>-795.54</td> \n",
       "</tr>\n",
       "<tr>\n",
       "       <td>Df Model:</td>             <td>88</td>           <td>F-statistic:</td>       <td>33.14</td>  \n",
       "</tr>\n",
       "<tr>\n",
       "     <td>Df Residuals:</td>          <td>1316</td>       <td>Prob (F-statistic):</td> <td>1.89e-272</td>\n",
       "</tr>\n",
       "<tr>\n",
       "      <td>R-squared:</td>            <td>0.689</td>            <td>Scale:</td>         <td>0.19400</td> \n",
       "</tr>\n",
       "</table>\n",
       "<table class=\"simpletable\">\n",
       "<tr>\n",
       "            <td></td>             <th>Coef.</th>  <th>Std.Err.</th>    <th>t</th>     <th>P>|t|</th> <th>[0.025</th>  <th>0.975]</th> \n",
       "</tr>\n",
       "<tr>\n",
       "  <th>goal</th>                  <td>0.0000</td>   <td>0.0000</td>  <td>0.2947</td>  <td>0.7683</td> <td>-0.0000</td> <td>0.0000</td> \n",
       "</tr>\n",
       "<tr>\n",
       "  <th>duration</th>              <td>-0.0000</td>  <td>0.0000</td>  <td>-3.8869</td> <td>0.0001</td> <td>-0.0000</td> <td>-0.0000</td>\n",
       "</tr>\n",
       "<tr>\n",
       "  <th>length_of_blurb</th>       <td>0.0082</td>   <td>0.0022</td>  <td>3.7088</td>  <td>0.0002</td> <td>0.0039</td>  <td>0.0126</td> \n",
       "</tr>\n",
       "<tr>\n",
       "  <th>avg_goal_reward_level</th> <td>-0.0000</td>  <td>0.0000</td>  <td>-1.1949</td> <td>0.2324</td> <td>-0.0000</td> <td>0.0000</td> \n",
       "</tr>\n",
       "<tr>\n",
       "  <th>abs_dist_from_mean</th>    <td>0.0041</td>   <td>0.0040</td>  <td>1.0135</td>  <td>0.3110</td> <td>-0.0038</td> <td>0.0119</td> \n",
       "</tr>\n",
       "<tr>\n",
       "  <th>staff_pick</th>            <td>0.1483</td>   <td>0.0395</td>  <td>3.7540</td>  <td>0.0002</td> <td>0.0708</td>  <td>0.2258</td> \n",
       "</tr>\n",
       "<tr>\n",
       "  <th>Rewards</th>               <td>0.0035</td>   <td>0.0008</td>  <td>4.2687</td>  <td>0.0000</td> <td>0.0019</td>  <td>0.0051</td> \n",
       "</tr>\n",
       "<tr>\n",
       "  <th>mixed media</th>           <td>-0.4164</td>  <td>0.0948</td>  <td>-4.3906</td> <td>0.0000</td> <td>-0.6024</td> <td>-0.2303</td>\n",
       "</tr>\n",
       "<tr>\n",
       "  <th>sentimen_score</th>        <td>-0.0342</td>  <td>0.0099</td>  <td>-3.4513</td> <td>0.0006</td> <td>-0.0537</td> <td>-0.0148</td>\n",
       "</tr>\n",
       "<tr>\n",
       "  <th>WC</th>                    <td>0.0000</td>   <td>0.0000</td>  <td>0.1316</td>  <td>0.8953</td> <td>-0.0001</td> <td>0.0001</td> \n",
       "</tr>\n",
       "<tr>\n",
       "  <th>Analytic</th>              <td>0.0039</td>   <td>0.0018</td>  <td>2.1887</td>  <td>0.0288</td> <td>0.0004</td>  <td>0.0074</td> \n",
       "</tr>\n",
       "<tr>\n",
       "  <th>Clout</th>                 <td>0.0019</td>   <td>0.0025</td>  <td>0.7770</td>  <td>0.4373</td> <td>-0.0029</td> <td>0.0068</td> \n",
       "</tr>\n",
       "<tr>\n",
       "  <th>Authentic</th>             <td>-0.0023</td>  <td>0.0020</td>  <td>-1.1653</td> <td>0.2441</td> <td>-0.0061</td> <td>0.0016</td> \n",
       "</tr>\n",
       "<tr>\n",
       "  <th>Tone</th>                  <td>0.0031</td>   <td>0.0012</td>  <td>2.6341</td>  <td>0.0085</td> <td>0.0008</td>  <td>0.0054</td> \n",
       "</tr>\n",
       "<tr>\n",
       "  <th>WPS</th>                   <td>-0.0004</td>  <td>0.0004</td>  <td>-1.0402</td> <td>0.2985</td> <td>-0.0013</td> <td>0.0004</td> \n",
       "</tr>\n",
       "<tr>\n",
       "  <th>Sixltr</th>                <td>0.0040</td>   <td>0.0033</td>  <td>1.1989</td>  <td>0.2308</td> <td>-0.0025</td> <td>0.0105</td> \n",
       "</tr>\n",
       "<tr>\n",
       "  <th>Dic</th>                   <td>-0.0227</td>  <td>0.0063</td>  <td>-3.5937</td> <td>0.0003</td> <td>-0.0351</td> <td>-0.0103</td>\n",
       "</tr>\n",
       "<tr>\n",
       "  <th>function</th>              <td>-0.0033</td>  <td>0.0144</td>  <td>-0.2296</td> <td>0.8185</td> <td>-0.0315</td> <td>0.0249</td> \n",
       "</tr>\n",
       "<tr>\n",
       "  <th>pronoun</th>               <td>0.0606</td>   <td>0.3482</td>  <td>0.1740</td>  <td>0.8619</td> <td>-0.6225</td> <td>0.7436</td> \n",
       "</tr>\n",
       "<tr>\n",
       "  <th>ppron</th>                 <td>-0.1835</td>  <td>2.0112</td>  <td>-0.0913</td> <td>0.9273</td> <td>-4.1291</td> <td>3.7620</td> \n",
       "</tr>\n",
       "<tr>\n",
       "  <th>i</th>                     <td>0.1590</td>   <td>1.9855</td>  <td>0.0801</td>  <td>0.9362</td> <td>-3.7360</td> <td>4.0541</td> \n",
       "</tr>\n",
       "<tr>\n",
       "  <th>we</th>                    <td>0.1094</td>   <td>1.9858</td>  <td>0.0551</td>  <td>0.9561</td> <td>-3.7864</td> <td>4.0052</td> \n",
       "</tr>\n",
       "<tr>\n",
       "  <th>you</th>                   <td>0.1911</td>   <td>1.9856</td>  <td>0.0962</td>  <td>0.9233</td> <td>-3.7042</td> <td>4.0864</td> \n",
       "</tr>\n",
       "<tr>\n",
       "  <th>shehe</th>                 <td>0.0708</td>   <td>1.9872</td>  <td>0.0356</td>  <td>0.9716</td> <td>-3.8277</td> <td>3.9693</td> \n",
       "</tr>\n",
       "<tr>\n",
       "  <th>they</th>                  <td>0.1737</td>   <td>1.9861</td>  <td>0.0875</td>  <td>0.9303</td> <td>-3.7226</td> <td>4.0700</td> \n",
       "</tr>\n",
       "<tr>\n",
       "  <th>ipron</th>                 <td>-0.0289</td>  <td>0.3488</td>  <td>-0.0828</td> <td>0.9340</td> <td>-0.7131</td> <td>0.6553</td> \n",
       "</tr>\n",
       "<tr>\n",
       "  <th>article</th>               <td>0.0242</td>   <td>0.0150</td>  <td>1.6147</td>  <td>0.1066</td> <td>-0.0052</td> <td>0.0536</td> \n",
       "</tr>\n",
       "<tr>\n",
       "  <th>prep</th>                  <td>0.0167</td>   <td>0.0138</td>  <td>1.2145</td>  <td>0.2248</td> <td>-0.0103</td> <td>0.0438</td> \n",
       "</tr>\n",
       "<tr>\n",
       "  <th>auxverb</th>               <td>0.0422</td>   <td>0.0168</td>  <td>2.5053</td>  <td>0.0124</td> <td>0.0091</td>  <td>0.0752</td> \n",
       "</tr>\n",
       "<tr>\n",
       "  <th>adverb</th>                <td>0.0475</td>   <td>0.0139</td>  <td>3.4125</td>  <td>0.0007</td> <td>0.0202</td>  <td>0.0748</td> \n",
       "</tr>\n",
       "<tr>\n",
       "  <th>conj</th>                  <td>0.0040</td>   <td>0.0133</td>  <td>0.3022</td>  <td>0.7625</td> <td>-0.0221</td> <td>0.0302</td> \n",
       "</tr>\n",
       "<tr>\n",
       "  <th>verb</th>                  <td>-0.0205</td>  <td>0.0101</td>  <td>-2.0349</td> <td>0.0421</td> <td>-0.0402</td> <td>-0.0007</td>\n",
       "</tr>\n",
       "<tr>\n",
       "  <th>adj</th>                   <td>0.0262</td>   <td>0.0104</td>  <td>2.5076</td>  <td>0.0123</td> <td>0.0057</td>  <td>0.0466</td> \n",
       "</tr>\n",
       "<tr>\n",
       "  <th>compare</th>               <td>-0.0224</td>  <td>0.0152</td>  <td>-1.4760</td> <td>0.1402</td> <td>-0.0522</td> <td>0.0074</td> \n",
       "</tr>\n",
       "<tr>\n",
       "  <th>interrog</th>              <td>-0.0427</td>  <td>0.0206</td>  <td>-2.0711</td> <td>0.0385</td> <td>-0.0831</td> <td>-0.0023</td>\n",
       "</tr>\n",
       "<tr>\n",
       "  <th>number</th>                <td>-0.0010</td>  <td>0.0075</td>  <td>-0.1355</td> <td>0.8922</td> <td>-0.0157</td> <td>0.0136</td> \n",
       "</tr>\n",
       "<tr>\n",
       "  <th>quant</th>                 <td>0.0271</td>   <td>0.0115</td>  <td>2.3455</td>  <td>0.0192</td> <td>0.0044</td>  <td>0.0497</td> \n",
       "</tr>\n",
       "<tr>\n",
       "  <th>affect</th>                <td>-0.0644</td>  <td>0.0730</td>  <td>-0.8830</td> <td>0.3774</td> <td>-0.2076</td> <td>0.0787</td> \n",
       "</tr>\n",
       "<tr>\n",
       "  <th>posemo</th>                <td>0.0482</td>   <td>0.0731</td>  <td>0.6597</td>  <td>0.5096</td> <td>-0.0952</td> <td>0.1916</td> \n",
       "</tr>\n",
       "<tr>\n",
       "  <th>negemo</th>                <td>0.1374</td>   <td>0.0769</td>  <td>1.7877</td>  <td>0.0741</td> <td>-0.0134</td> <td>0.2882</td> \n",
       "</tr>\n",
       "<tr>\n",
       "  <th>social</th>                <td>-0.0152</td>  <td>0.0117</td>  <td>-1.2973</td> <td>0.1948</td> <td>-0.0381</td> <td>0.0078</td> \n",
       "</tr>\n",
       "<tr>\n",
       "  <th>female</th>                <td>0.0544</td>   <td>0.0280</td>  <td>1.9392</td>  <td>0.0527</td> <td>-0.0006</td> <td>0.1094</td> \n",
       "</tr>\n",
       "<tr>\n",
       "  <th>male</th>                  <td>0.0359</td>   <td>0.0292</td>  <td>1.2304</td>  <td>0.2188</td> <td>-0.0214</td> <td>0.0932</td> \n",
       "</tr>\n",
       "<tr>\n",
       "  <th>cogproc</th>               <td>-0.0275</td>  <td>0.0194</td>  <td>-1.4188</td> <td>0.1562</td> <td>-0.0656</td> <td>0.0105</td> \n",
       "</tr>\n",
       "<tr>\n",
       "  <th>insight</th>               <td>0.0432</td>   <td>0.0238</td>  <td>1.8160</td>  <td>0.0696</td> <td>-0.0035</td> <td>0.0898</td> \n",
       "</tr>\n",
       "<tr>\n",
       "  <th>cause</th>                 <td>0.0462</td>   <td>0.0208</td>  <td>2.2217</td>  <td>0.0265</td> <td>0.0054</td>  <td>0.0870</td> \n",
       "</tr>\n",
       "<tr>\n",
       "  <th>discrep</th>               <td>0.0153</td>   <td>0.0213</td>  <td>0.7159</td>  <td>0.4742</td> <td>-0.0265</td> <td>0.0571</td> \n",
       "</tr>\n",
       "<tr>\n",
       "  <th>tentat</th>                <td>0.0111</td>   <td>0.0167</td>  <td>0.6645</td>  <td>0.5065</td> <td>-0.0217</td> <td>0.0439</td> \n",
       "</tr>\n",
       "<tr>\n",
       "  <th>certain</th>               <td>0.0296</td>   <td>0.0241</td>  <td>1.2263</td>  <td>0.2203</td> <td>-0.0178</td> <td>0.0770</td> \n",
       "</tr>\n",
       "<tr>\n",
       "  <th>differ</th>                <td>0.0545</td>   <td>0.0221</td>  <td>2.4691</td>  <td>0.0137</td> <td>0.0112</td>  <td>0.0977</td> \n",
       "</tr>\n",
       "<tr>\n",
       "  <th>percept</th>               <td>0.0155</td>   <td>0.0420</td>  <td>0.3697</td>  <td>0.7117</td> <td>-0.0669</td> <td>0.0980</td> \n",
       "</tr>\n",
       "<tr>\n",
       "  <th>see</th>                   <td>-0.0048</td>  <td>0.0428</td>  <td>-0.1122</td> <td>0.9107</td> <td>-0.0887</td> <td>0.0791</td> \n",
       "</tr>\n",
       "<tr>\n",
       "  <th>hear</th>                  <td>-0.0335</td>  <td>0.0513</td>  <td>-0.6526</td> <td>0.5142</td> <td>-0.1341</td> <td>0.0671</td> \n",
       "</tr>\n",
       "<tr>\n",
       "  <th>feel</th>                  <td>0.0165</td>   <td>0.0477</td>  <td>0.3453</td>  <td>0.7299</td> <td>-0.0770</td> <td>0.1099</td> \n",
       "</tr>\n",
       "<tr>\n",
       "  <th>bio</th>                   <td>0.0177</td>   <td>0.0169</td>  <td>1.0421</td>  <td>0.2976</td> <td>-0.0156</td> <td>0.0509</td> \n",
       "</tr>\n",
       "<tr>\n",
       "  <th>body</th>                  <td>-0.0229</td>  <td>0.0246</td>  <td>-0.9308</td> <td>0.3521</td> <td>-0.0713</td> <td>0.0254</td> \n",
       "</tr>\n",
       "<tr>\n",
       "  <th>health</th>                <td>-0.0142</td>  <td>0.0283</td>  <td>-0.5031</td> <td>0.6150</td> <td>-0.0697</td> <td>0.0412</td> \n",
       "</tr>\n",
       "<tr>\n",
       "  <th>sexual</th>                <td>-0.0276</td>  <td>0.0438</td>  <td>-0.6295</td> <td>0.5291</td> <td>-0.1134</td> <td>0.0583</td> \n",
       "</tr>\n",
       "<tr>\n",
       "  <th>drives</th>                <td>-0.0242</td>  <td>0.0186</td>  <td>-1.2982</td> <td>0.1944</td> <td>-0.0607</td> <td>0.0124</td> \n",
       "</tr>\n",
       "<tr>\n",
       "  <th>affiliation</th>           <td>0.0565</td>   <td>0.0215</td>  <td>2.6242</td>  <td>0.0088</td> <td>0.0143</td>  <td>0.0988</td> \n",
       "</tr>\n",
       "<tr>\n",
       "  <th>achieve</th>               <td>0.0142</td>   <td>0.0171</td>  <td>0.8328</td>  <td>0.4051</td> <td>-0.0193</td> <td>0.0477</td> \n",
       "</tr>\n",
       "<tr>\n",
       "  <th>power</th>                 <td>0.0267</td>   <td>0.0178</td>  <td>1.5031</td>  <td>0.1330</td> <td>-0.0081</td> <td>0.0616</td> \n",
       "</tr>\n",
       "<tr>\n",
       "  <th>reward</th>                <td>0.0528</td>   <td>0.0167</td>  <td>3.1614</td>  <td>0.0016</td> <td>0.0200</td>  <td>0.0855</td> \n",
       "</tr>\n",
       "<tr>\n",
       "  <th>focuspast</th>             <td>0.0345</td>   <td>0.0121</td>  <td>2.8546</td>  <td>0.0044</td> <td>0.0108</td>  <td>0.0583</td> \n",
       "</tr>\n",
       "<tr>\n",
       "  <th>focuspresent</th>          <td>0.0086</td>   <td>0.0096</td>  <td>0.8957</td>  <td>0.3706</td> <td>-0.0102</td> <td>0.0275</td> \n",
       "</tr>\n",
       "<tr>\n",
       "  <th>focusfuture</th>           <td>-0.0014</td>  <td>0.0135</td>  <td>-0.1004</td> <td>0.9201</td> <td>-0.0279</td> <td>0.0252</td> \n",
       "</tr>\n",
       "<tr>\n",
       "  <th>relativ</th>               <td>0.0438</td>   <td>0.0290</td>  <td>1.5116</td>  <td>0.1309</td> <td>-0.0130</td> <td>0.1006</td> \n",
       "</tr>\n",
       "<tr>\n",
       "  <th>motion</th>                <td>-0.0251</td>  <td>0.0272</td>  <td>-0.9235</td> <td>0.3559</td> <td>-0.0785</td> <td>0.0282</td> \n",
       "</tr>\n",
       "<tr>\n",
       "  <th>space</th>                 <td>-0.0274</td>  <td>0.0276</td>  <td>-0.9908</td> <td>0.3220</td> <td>-0.0816</td> <td>0.0268</td> \n",
       "</tr>\n",
       "<tr>\n",
       "  <th>time</th>                  <td>-0.0217</td>  <td>0.0272</td>  <td>-0.8003</td> <td>0.4237</td> <td>-0.0750</td> <td>0.0316</td> \n",
       "</tr>\n",
       "<tr>\n",
       "  <th>work</th>                  <td>0.0190</td>   <td>0.0083</td>  <td>2.2904</td>  <td>0.0222</td> <td>0.0027</td>  <td>0.0352</td> \n",
       "</tr>\n",
       "<tr>\n",
       "  <th>leisure</th>               <td>0.0131</td>   <td>0.0081</td>  <td>1.6109</td>  <td>0.1074</td> <td>-0.0029</td> <td>0.0290</td> \n",
       "</tr>\n",
       "<tr>\n",
       "  <th>home</th>                  <td>-0.0048</td>  <td>0.0205</td>  <td>-0.2354</td> <td>0.8139</td> <td>-0.0450</td> <td>0.0354</td> \n",
       "</tr>\n",
       "<tr>\n",
       "  <th>money</th>                 <td>-0.0227</td>  <td>0.0118</td>  <td>-1.9309</td> <td>0.0537</td> <td>-0.0459</td> <td>0.0004</td> \n",
       "</tr>\n",
       "<tr>\n",
       "  <th>informal</th>              <td>-0.0143</td>  <td>0.0215</td>  <td>-0.6643</td> <td>0.5066</td> <td>-0.0565</td> <td>0.0279</td> \n",
       "</tr>\n",
       "<tr>\n",
       "  <th>assent</th>                <td>-0.0303</td>  <td>0.0545</td>  <td>-0.5563</td> <td>0.5781</td> <td>-0.1373</td> <td>0.0766</td> \n",
       "</tr>\n",
       "<tr>\n",
       "  <th>nonflu</th>                <td>-0.0273</td>  <td>0.0535</td>  <td>-0.5102</td> <td>0.6100</td> <td>-0.1323</td> <td>0.0777</td> \n",
       "</tr>\n",
       "<tr>\n",
       "  <th>AllPunc</th>               <td>0.0097</td>   <td>0.0562</td>  <td>0.1733</td>  <td>0.8624</td> <td>-0.1005</td> <td>0.1199</td> \n",
       "</tr>\n",
       "<tr>\n",
       "  <th>Period</th>                <td>-0.0158</td>  <td>0.0563</td>  <td>-0.2801</td> <td>0.7794</td> <td>-0.1262</td> <td>0.0946</td> \n",
       "</tr>\n",
       "<tr>\n",
       "  <th>Comma</th>                 <td>-0.0005</td>  <td>0.0564</td>  <td>-0.0092</td> <td>0.9927</td> <td>-0.1111</td> <td>0.1101</td> \n",
       "</tr>\n",
       "<tr>\n",
       "  <th>Colon</th>                 <td>0.0159</td>   <td>0.0581</td>  <td>0.2743</td>  <td>0.7839</td> <td>-0.0980</td> <td>0.1299</td> \n",
       "</tr>\n",
       "<tr>\n",
       "  <th>QMark</th>                 <td>-0.0244</td>  <td>0.0649</td>  <td>-0.3758</td> <td>0.7071</td> <td>-0.1518</td> <td>0.1030</td> \n",
       "</tr>\n",
       "<tr>\n",
       "  <th>Exclam</th>                <td>0.0038</td>   <td>0.0566</td>  <td>0.0673</td>  <td>0.9463</td> <td>-0.1072</td> <td>0.1148</td> \n",
       "</tr>\n",
       "<tr>\n",
       "  <th>Dash</th>                  <td>-0.0089</td>  <td>0.0562</td>  <td>-0.1576</td> <td>0.8748</td> <td>-0.1192</td> <td>0.1015</td> \n",
       "</tr>\n",
       "<tr>\n",
       "  <th>Quote</th>                 <td>-0.0345</td>  <td>0.0578</td>  <td>-0.5968</td> <td>0.5508</td> <td>-0.1479</td> <td>0.0789</td> \n",
       "</tr>\n",
       "<tr>\n",
       "  <th>Apostro</th>               <td>0.0193</td>   <td>0.0581</td>  <td>0.3315</td>  <td>0.7403</td> <td>-0.0947</td> <td>0.1332</td> \n",
       "</tr>\n",
       "<tr>\n",
       "  <th>Parenth</th>               <td>0.0078</td>   <td>0.0576</td>  <td>0.1353</td>  <td>0.8924</td> <td>-0.1052</td> <td>0.1208</td> \n",
       "</tr>\n",
       "<tr>\n",
       "  <th>OtherP</th>                <td>-0.0055</td>  <td>0.0561</td>  <td>-0.0980</td> <td>0.9220</td> <td>-0.1156</td> <td>0.1046</td> \n",
       "</tr>\n",
       "</table>\n",
       "<table class=\"simpletable\">\n",
       "<tr>\n",
       "     <td>Omnibus:</td>    <td>278.964</td>  <td>Durbin-Watson:</td>      <td>1.940</td>  \n",
       "</tr>\n",
       "<tr>\n",
       "  <td>Prob(Omnibus):</td>  <td>0.000</td>  <td>Jarque-Bera (JB):</td>   <td>68.497</td>  \n",
       "</tr>\n",
       "<tr>\n",
       "       <td>Skew:</td>     <td>-0.237</td>      <td>Prob(JB):</td>        <td>0.000</td>  \n",
       "</tr>\n",
       "<tr>\n",
       "     <td>Kurtosis:</td>    <td>2.027</td>   <td>Condition No.:</td>   <td>1170646961</td>\n",
       "</tr>\n",
       "</table>"
      ],
      "text/plain": [
       "<class 'statsmodels.iolib.summary2.Summary'>\n",
       "\"\"\"\n",
       "                   Results: Ordinary least squares\n",
       "=====================================================================\n",
       "Model:               OLS               Adj. R-squared:      0.668    \n",
       "Dependent Variable:  current_status    AIC:                 1767.0848\n",
       "Date:                2018-05-26 19:57  BIC:                 2228.8279\n",
       "No. Observations:    1404              Log-Likelihood:      -795.54  \n",
       "Df Model:            88                F-statistic:         33.14    \n",
       "Df Residuals:        1316              Prob (F-statistic):  1.89e-272\n",
       "R-squared:           0.689             Scale:               0.19400  \n",
       "---------------------------------------------------------------------\n",
       "                       Coef.  Std.Err.    t    P>|t|   [0.025  0.975]\n",
       "---------------------------------------------------------------------\n",
       "goal                   0.0000   0.0000  0.2947 0.7683 -0.0000  0.0000\n",
       "duration              -0.0000   0.0000 -3.8869 0.0001 -0.0000 -0.0000\n",
       "length_of_blurb        0.0082   0.0022  3.7088 0.0002  0.0039  0.0126\n",
       "avg_goal_reward_level -0.0000   0.0000 -1.1949 0.2324 -0.0000  0.0000\n",
       "abs_dist_from_mean     0.0041   0.0040  1.0135 0.3110 -0.0038  0.0119\n",
       "staff_pick             0.1483   0.0395  3.7540 0.0002  0.0708  0.2258\n",
       "Rewards                0.0035   0.0008  4.2687 0.0000  0.0019  0.0051\n",
       "mixed media           -0.4164   0.0948 -4.3906 0.0000 -0.6024 -0.2303\n",
       "sentimen_score        -0.0342   0.0099 -3.4513 0.0006 -0.0537 -0.0148\n",
       "WC                     0.0000   0.0000  0.1316 0.8953 -0.0001  0.0001\n",
       "Analytic               0.0039   0.0018  2.1887 0.0288  0.0004  0.0074\n",
       "Clout                  0.0019   0.0025  0.7770 0.4373 -0.0029  0.0068\n",
       "Authentic             -0.0023   0.0020 -1.1653 0.2441 -0.0061  0.0016\n",
       "Tone                   0.0031   0.0012  2.6341 0.0085  0.0008  0.0054\n",
       "WPS                   -0.0004   0.0004 -1.0402 0.2985 -0.0013  0.0004\n",
       "Sixltr                 0.0040   0.0033  1.1989 0.2308 -0.0025  0.0105\n",
       "Dic                   -0.0227   0.0063 -3.5937 0.0003 -0.0351 -0.0103\n",
       "function              -0.0033   0.0144 -0.2296 0.8185 -0.0315  0.0249\n",
       "pronoun                0.0606   0.3482  0.1740 0.8619 -0.6225  0.7436\n",
       "ppron                 -0.1835   2.0112 -0.0913 0.9273 -4.1291  3.7620\n",
       "i                      0.1590   1.9855  0.0801 0.9362 -3.7360  4.0541\n",
       "we                     0.1094   1.9858  0.0551 0.9561 -3.7864  4.0052\n",
       "you                    0.1911   1.9856  0.0962 0.9233 -3.7042  4.0864\n",
       "shehe                  0.0708   1.9872  0.0356 0.9716 -3.8277  3.9693\n",
       "they                   0.1737   1.9861  0.0875 0.9303 -3.7226  4.0700\n",
       "ipron                 -0.0289   0.3488 -0.0828 0.9340 -0.7131  0.6553\n",
       "article                0.0242   0.0150  1.6147 0.1066 -0.0052  0.0536\n",
       "prep                   0.0167   0.0138  1.2145 0.2248 -0.0103  0.0438\n",
       "auxverb                0.0422   0.0168  2.5053 0.0124  0.0091  0.0752\n",
       "adverb                 0.0475   0.0139  3.4125 0.0007  0.0202  0.0748\n",
       "conj                   0.0040   0.0133  0.3022 0.7625 -0.0221  0.0302\n",
       "verb                  -0.0205   0.0101 -2.0349 0.0421 -0.0402 -0.0007\n",
       "adj                    0.0262   0.0104  2.5076 0.0123  0.0057  0.0466\n",
       "compare               -0.0224   0.0152 -1.4760 0.1402 -0.0522  0.0074\n",
       "interrog              -0.0427   0.0206 -2.0711 0.0385 -0.0831 -0.0023\n",
       "number                -0.0010   0.0075 -0.1355 0.8922 -0.0157  0.0136\n",
       "quant                  0.0271   0.0115  2.3455 0.0192  0.0044  0.0497\n",
       "affect                -0.0644   0.0730 -0.8830 0.3774 -0.2076  0.0787\n",
       "posemo                 0.0482   0.0731  0.6597 0.5096 -0.0952  0.1916\n",
       "negemo                 0.1374   0.0769  1.7877 0.0741 -0.0134  0.2882\n",
       "social                -0.0152   0.0117 -1.2973 0.1948 -0.0381  0.0078\n",
       "female                 0.0544   0.0280  1.9392 0.0527 -0.0006  0.1094\n",
       "male                   0.0359   0.0292  1.2304 0.2188 -0.0214  0.0932\n",
       "cogproc               -0.0275   0.0194 -1.4188 0.1562 -0.0656  0.0105\n",
       "insight                0.0432   0.0238  1.8160 0.0696 -0.0035  0.0898\n",
       "cause                  0.0462   0.0208  2.2217 0.0265  0.0054  0.0870\n",
       "discrep                0.0153   0.0213  0.7159 0.4742 -0.0265  0.0571\n",
       "tentat                 0.0111   0.0167  0.6645 0.5065 -0.0217  0.0439\n",
       "certain                0.0296   0.0241  1.2263 0.2203 -0.0178  0.0770\n",
       "differ                 0.0545   0.0221  2.4691 0.0137  0.0112  0.0977\n",
       "percept                0.0155   0.0420  0.3697 0.7117 -0.0669  0.0980\n",
       "see                   -0.0048   0.0428 -0.1122 0.9107 -0.0887  0.0791\n",
       "hear                  -0.0335   0.0513 -0.6526 0.5142 -0.1341  0.0671\n",
       "feel                   0.0165   0.0477  0.3453 0.7299 -0.0770  0.1099\n",
       "bio                    0.0177   0.0169  1.0421 0.2976 -0.0156  0.0509\n",
       "body                  -0.0229   0.0246 -0.9308 0.3521 -0.0713  0.0254\n",
       "health                -0.0142   0.0283 -0.5031 0.6150 -0.0697  0.0412\n",
       "sexual                -0.0276   0.0438 -0.6295 0.5291 -0.1134  0.0583\n",
       "drives                -0.0242   0.0186 -1.2982 0.1944 -0.0607  0.0124\n",
       "affiliation            0.0565   0.0215  2.6242 0.0088  0.0143  0.0988\n",
       "achieve                0.0142   0.0171  0.8328 0.4051 -0.0193  0.0477\n",
       "power                  0.0267   0.0178  1.5031 0.1330 -0.0081  0.0616\n",
       "reward                 0.0528   0.0167  3.1614 0.0016  0.0200  0.0855\n",
       "focuspast              0.0345   0.0121  2.8546 0.0044  0.0108  0.0583\n",
       "focuspresent           0.0086   0.0096  0.8957 0.3706 -0.0102  0.0275\n",
       "focusfuture           -0.0014   0.0135 -0.1004 0.9201 -0.0279  0.0252\n",
       "relativ                0.0438   0.0290  1.5116 0.1309 -0.0130  0.1006\n",
       "motion                -0.0251   0.0272 -0.9235 0.3559 -0.0785  0.0282\n",
       "space                 -0.0274   0.0276 -0.9908 0.3220 -0.0816  0.0268\n",
       "time                  -0.0217   0.0272 -0.8003 0.4237 -0.0750  0.0316\n",
       "work                   0.0190   0.0083  2.2904 0.0222  0.0027  0.0352\n",
       "leisure                0.0131   0.0081  1.6109 0.1074 -0.0029  0.0290\n",
       "home                  -0.0048   0.0205 -0.2354 0.8139 -0.0450  0.0354\n",
       "money                 -0.0227   0.0118 -1.9309 0.0537 -0.0459  0.0004\n",
       "informal              -0.0143   0.0215 -0.6643 0.5066 -0.0565  0.0279\n",
       "assent                -0.0303   0.0545 -0.5563 0.5781 -0.1373  0.0766\n",
       "nonflu                -0.0273   0.0535 -0.5102 0.6100 -0.1323  0.0777\n",
       "AllPunc                0.0097   0.0562  0.1733 0.8624 -0.1005  0.1199\n",
       "Period                -0.0158   0.0563 -0.2801 0.7794 -0.1262  0.0946\n",
       "Comma                 -0.0005   0.0564 -0.0092 0.9927 -0.1111  0.1101\n",
       "Colon                  0.0159   0.0581  0.2743 0.7839 -0.0980  0.1299\n",
       "QMark                 -0.0244   0.0649 -0.3758 0.7071 -0.1518  0.1030\n",
       "Exclam                 0.0038   0.0566  0.0673 0.9463 -0.1072  0.1148\n",
       "Dash                  -0.0089   0.0562 -0.1576 0.8748 -0.1192  0.1015\n",
       "Quote                 -0.0345   0.0578 -0.5968 0.5508 -0.1479  0.0789\n",
       "Apostro                0.0193   0.0581  0.3315 0.7403 -0.0947  0.1332\n",
       "Parenth                0.0078   0.0576  0.1353 0.8924 -0.1052  0.1208\n",
       "OtherP                -0.0055   0.0561 -0.0980 0.9220 -0.1156  0.1046\n",
       "---------------------------------------------------------------------\n",
       "Omnibus:             278.964       Durbin-Watson:          1.940     \n",
       "Prob(Omnibus):       0.000         Jarque-Bera (JB):       68.497    \n",
       "Skew:                -0.237        Prob(JB):               0.000     \n",
       "Kurtosis:            2.027         Condition No.:          1170646961\n",
       "=====================================================================\n",
       "* The condition number is large (1e+09). This might indicate\n",
       "strong multicollinearity or other numerical problems.\n",
       "\"\"\""
      ]
     },
     "execution_count": 153,
     "metadata": {},
     "output_type": "execute_result"
    }
   ],
   "source": [
    "model.summary2()"
   ]
  },
  {
   "cell_type": "code",
   "execution_count": 162,
   "metadata": {},
   "outputs": [],
   "source": [
    "successful_df = analysis[analysis['current_status']==0]['Description']"
   ]
  },
  {
   "cell_type": "code",
   "execution_count": 166,
   "metadata": {},
   "outputs": [],
   "source": [
    "successful_df.to_csv('successful_desc.csv')"
   ]
  },
  {
   "cell_type": "code",
   "execution_count": 198,
   "metadata": {},
   "outputs": [],
   "source": [
    "reciprocity = 'free shipping, you receive, early bird, be the first, your reward, reward , recieve '.split(',')"
   ]
  },
  {
   "cell_type": "code",
   "execution_count": 199,
   "metadata": {},
   "outputs": [
    {
     "data": {
      "text/plain": [
       "['free shipping',\n",
       " ' you receive',\n",
       " ' early bird',\n",
       " ' be the first',\n",
       " ' your reward',\n",
       " ' reward ',\n",
       " ' recieve ']"
      ]
     },
     "execution_count": 199,
     "metadata": {},
     "output_type": "execute_result"
    }
   ],
   "source": [
    "reciprocity"
   ]
  },
  {
   "cell_type": "code",
   "execution_count": 200,
   "metadata": {},
   "outputs": [],
   "source": [
    "recipro_count_list = []\n",
    "for i in range(len(analysis)):\n",
    "    desc_str = analysis.iloc[i].Description\n",
    "    count = 0\n",
    "    try:\n",
    "        for i in reciprocity:\n",
    "            if i in desc_str:\n",
    "                count = count + 1\n",
    "    except Exception as e:\n",
    "        pass\n",
    "    recipro_count_list.append(count)"
   ]
  },
  {
   "cell_type": "code",
   "execution_count": 205,
   "metadata": {},
   "outputs": [],
   "source": [
    "social_relationship = 'friends, friendship, community, and family, his family, people'.split(',')\n",
    "social_count_list = []\n",
    "for i in range(len(analysis)):\n",
    "    desc_str = analysis.iloc[i].Description\n",
    "    count = 0\n",
    "    try:\n",
    "        for i in social_relationship:\n",
    "            if i in desc_str:\n",
    "                count = count + 1\n",
    "    except Exception as e:\n",
    "        pass\n",
    "    social_count_list.append(count)\n",
    "\n",
    "emotion = 'passion, dream, inspired to start, believe that, impact, volunteer'.split(',')\n",
    "emotion_count_list = []\n",
    "for i in range(len(analysis)):\n",
    "    desc_str = analysis.iloc[i].Description\n",
    "    count = 0\n",
    "    try:\n",
    "        for i in emotion:\n",
    "            if i in desc_str:\n",
    "                count = count + 1\n",
    "    except Exception as e:\n",
    "        pass\n",
    "    emotion_count_list.append(count)\n",
    "thank = 'thank you, so thankful, thanks, thanks so much, grateful, grateful for your'.split(',')\n",
    "thank_count_list = []\n",
    "for i in range(len(analysis)):\n",
    "    desc_str = analysis.iloc[i].Description\n",
    "    count = 0\n",
    "    try:\n",
    "        for i in thank:\n",
    "            if i in desc_str:\n",
    "                count = count + 1\n",
    "    except Exception as e:\n",
    "        pass\n",
    "    thank_count_list.append(count)\n",
    "\n",
    "pitch = 'why support, funds will cover, will be used, aiming to, aim to raise'.split(',')\n",
    "pitch_count_list = []\n",
    "for i in range(len(analysis)):\n",
    "    desc_str = analysis.iloc[i].Description\n",
    "    count = 0\n",
    "    try:\n",
    "        for i in pitch:\n",
    "            if i in desc_str:\n",
    "                count = count + 1\n",
    "    except Exception as e:\n",
    "        pass\n",
    "    pitch_count_list.append(count)\n",
    "    \n",
    "collective = 'help us, we can, we raise, we plan to, we need, we found, we created'.split(',')\n",
    "collective_count_list = []\n",
    "for i in range(len(analysis)):\n",
    "    desc_str = analysis.iloc[i].Description\n",
    "    count = 0\n",
    "    try:\n",
    "        for i in collective:\n",
    "            if i in desc_str:\n",
    "                count = count + 1\n",
    "    except Exception as e:\n",
    "        pass\n",
    "    collective_count_list.append(count)"
   ]
  },
  {
   "cell_type": "code",
   "execution_count": 245,
   "metadata": {},
   "outputs": [],
   "source": [
    "predictive_phrases = pd.DataFrame()\n",
    "predictive_phrases['reciprocity'] = np.array(recipro_count_list)\n",
    "predictive_phrases['social_relationship'] = np.array(social_count_list)\n",
    "predictive_phrases['emotional_appeal'] = np.array(emotion_count_list)\n",
    "predictive_phrases['thankfullness'] = np.array(thank_count_list)\n",
    "predictive_phrases['pitch'] = np.array(pitch_count_list)\n",
    "predictive_phrases['collective'] = np.array(collective_count_list)\n",
    "\n"
   ]
  },
  {
   "cell_type": "code",
   "execution_count": 260,
   "metadata": {},
   "outputs": [
    {
     "ename": "AttributeError",
     "evalue": "'DataFrame' object has no attribute 'sentiment_score'",
     "output_type": "error",
     "traceback": [
      "\u001b[0;31m---------------------------------------------------------------------------\u001b[0m",
      "\u001b[0;31mAttributeError\u001b[0m                            Traceback (most recent call last)",
      "\u001b[0;32m<ipython-input-260-839e72a726f5>\u001b[0m in \u001b[0;36m<module>\u001b[0;34m()\u001b[0m\n\u001b[0;32m----> 1\u001b[0;31m \u001b[0mfinal_csv\u001b[0m\u001b[0;34m.\u001b[0m\u001b[0msentiment_score\u001b[0m\u001b[0;34m.\u001b[0m\u001b[0midxmax\u001b[0m\u001b[0;34m(\u001b[0m\u001b[0;34m)\u001b[0m\u001b[0;34m\u001b[0m\u001b[0m\n\u001b[0m\u001b[1;32m      2\u001b[0m \u001b[0;31m# analysis.iloc[0]['project_url']\u001b[0m\u001b[0;34m\u001b[0m\u001b[0;34m\u001b[0m\u001b[0m\n",
      "\u001b[0;32m/Users/saurabh/venv/lib/python2.7/site-packages/pandas/core/generic.pyc\u001b[0m in \u001b[0;36m__getattr__\u001b[0;34m(self, name)\u001b[0m\n\u001b[1;32m   3079\u001b[0m             \u001b[0;32mif\u001b[0m \u001b[0mname\u001b[0m \u001b[0;32min\u001b[0m \u001b[0mself\u001b[0m\u001b[0;34m.\u001b[0m\u001b[0m_info_axis\u001b[0m\u001b[0;34m:\u001b[0m\u001b[0;34m\u001b[0m\u001b[0m\n\u001b[1;32m   3080\u001b[0m                 \u001b[0;32mreturn\u001b[0m \u001b[0mself\u001b[0m\u001b[0;34m[\u001b[0m\u001b[0mname\u001b[0m\u001b[0;34m]\u001b[0m\u001b[0;34m\u001b[0m\u001b[0m\n\u001b[0;32m-> 3081\u001b[0;31m             \u001b[0;32mreturn\u001b[0m \u001b[0mobject\u001b[0m\u001b[0;34m.\u001b[0m\u001b[0m__getattribute__\u001b[0m\u001b[0;34m(\u001b[0m\u001b[0mself\u001b[0m\u001b[0;34m,\u001b[0m \u001b[0mname\u001b[0m\u001b[0;34m)\u001b[0m\u001b[0;34m\u001b[0m\u001b[0m\n\u001b[0m\u001b[1;32m   3082\u001b[0m \u001b[0;34m\u001b[0m\u001b[0m\n\u001b[1;32m   3083\u001b[0m     \u001b[0;32mdef\u001b[0m \u001b[0m__setattr__\u001b[0m\u001b[0;34m(\u001b[0m\u001b[0mself\u001b[0m\u001b[0;34m,\u001b[0m \u001b[0mname\u001b[0m\u001b[0;34m,\u001b[0m \u001b[0mvalue\u001b[0m\u001b[0;34m)\u001b[0m\u001b[0;34m:\u001b[0m\u001b[0;34m\u001b[0m\u001b[0m\n",
      "\u001b[0;31mAttributeError\u001b[0m: 'DataFrame' object has no attribute 'sentiment_score'"
     ]
    }
   ],
   "source": [
    "final_csv.sentiment_score.idxmax()\n",
    "# analysis.iloc[0]['project_url']"
   ]
  },
  {
   "cell_type": "code",
   "execution_count": null,
   "metadata": {},
   "outputs": [],
   "source": []
  },
  {
   "cell_type": "code",
   "execution_count": 214,
   "metadata": {},
   "outputs": [],
   "source": [
    "final_csv = final_csv.join(predictive_phrases)"
   ]
  },
  {
   "cell_type": "code",
   "execution_count": 221,
   "metadata": {},
   "outputs": [
    {
     "name": "stdout",
     "output_type": "stream",
     "text": [
      "goal\n",
      "duration\n",
      "length_of_blurb\n",
      "avg_goal_reward_level\n",
      "abs_dist_from_mean\n",
      "staff_pick\n",
      "Rewards\n",
      "mixed media\n",
      "sentimen_score\n",
      "WC\n",
      "Analytic\n",
      "Clout\n",
      "Authentic\n",
      "Tone\n",
      "WPS\n",
      "Sixltr\n",
      "Dic\n",
      "function\n",
      "pronoun\n",
      "ppron\n",
      "i\n",
      "we\n",
      "you\n",
      "shehe\n",
      "they\n",
      "ipron\n",
      "article\n",
      "prep\n",
      "auxverb\n",
      "adverb\n",
      "conj\n",
      "verb\n",
      "adj\n",
      "compare\n",
      "interrog\n",
      "number\n",
      "quant\n",
      "affect\n",
      "posemo\n",
      "negemo\n",
      "social\n",
      "female\n",
      "male\n",
      "cogproc\n",
      "insight\n",
      "cause\n",
      "discrep\n",
      "tentat\n",
      "certain\n",
      "differ\n",
      "percept\n",
      "see\n",
      "hear\n",
      "feel\n",
      "bio\n",
      "body\n",
      "health\n",
      "sexual\n",
      "drives\n",
      "affiliation\n",
      "achieve\n",
      "power\n",
      "reward\n",
      "focuspast\n",
      "focuspresent\n",
      "focusfuture\n",
      "relativ\n",
      "motion\n",
      "space\n",
      "time\n",
      "work\n",
      "leisure\n",
      "home\n",
      "money\n",
      "informal\n",
      "assent\n",
      "nonflu\n",
      "AllPunc\n",
      "Period\n",
      "Comma\n",
      "Colon\n",
      "QMark\n",
      "Exclam\n",
      "Dash\n",
      "Quote\n",
      "Apostro\n",
      "Parenth\n",
      "OtherP\n",
      "reciprocity\n",
      "social_relationship\n",
      "emotional_appeal\n",
      "thankfullness\n",
      "pitch\n",
      "collective\n"
     ]
    }
   ],
   "source": [
    "for i in final_csv.columns:\n",
    "    print i"
   ]
  },
  {
   "cell_type": "code",
   "execution_count": 256,
   "metadata": {},
   "outputs": [
    {
     "data": {
      "text/plain": [
       "'https://www.kickstarter.com/projects/1684067431/huddersfield-photo-exhibition-show?ref=category_newest'"
      ]
     },
     "execution_count": 256,
     "metadata": {},
     "output_type": "execute_result"
    }
   ],
   "source": [
    "analysis.iloc[686].Description\n",
    "#High on We and collective phrases\n",
    "analysis.iloc[686].project_url\n"
   ]
  },
  {
   "cell_type": "code",
   "execution_count": 254,
   "metadata": {},
   "outputs": [
    {
     "data": {
      "text/plain": [
       "'https://www.kickstarter.com/projects/955917893/manipulart-is-going-to-show-at-zombicon-2012?ref=category_newest'"
      ]
     },
     "execution_count": 254,
     "metadata": {},
     "output_type": "execute_result"
    }
   ],
   "source": [
    "analysis.iloc[781].project_url\n"
   ]
  },
  {
   "cell_type": "code",
   "execution_count": 227,
   "metadata": {},
   "outputs": [
    {
     "data": {
      "text/plain": [
       "0"
      ]
     },
     "execution_count": 227,
     "metadata": {},
     "output_type": "execute_result"
    }
   ],
   "source": [
    "analysis.iloc[781].current_status"
   ]
  },
  {
   "cell_type": "code",
   "execution_count": 229,
   "metadata": {},
   "outputs": [
    {
     "data": {
      "text/plain": [
       "\" I need the latest Apple product to advance my career and in return I'll draw portraits. If I don't reach my goal I'll be stuck using normal wooden pencils I get from Target like a chump.Love, Nathwww.heynath.com\""
      ]
     },
     "execution_count": 229,
     "metadata": {},
     "output_type": "execute_result"
    }
   ],
   "source": [
    "analysis.iloc[2287].Description\n"
   ]
  },
  {
   "cell_type": "code",
   "execution_count": 257,
   "metadata": {},
   "outputs": [
    {
     "data": {
      "text/plain": [
       "'https://www.kickstarter.com/projects/nath/apple-pencil-fundraiser?ref=category_newest'"
      ]
     },
     "execution_count": 257,
     "metadata": {},
     "output_type": "execute_result"
    }
   ],
   "source": [
    "analysis.iloc[2287].project_url"
   ]
  },
  {
   "cell_type": "code",
   "execution_count": 235,
   "metadata": {},
   "outputs": [
    {
     "data": {
      "text/plain": [
       "' The little paper boat dreamt of reaching the ocean, even if he didn\\xe4\\xf3\\xbbt know what it looked like. In a fantastic journey, the paper boat meets many friends and not so friendly creatures along the way, but he never gives up! Will he make it out to sea? Join along to find out!\\rThe sea is a dream. We grew up on books about the sea; about \\x8c\\xe6courageous\\x8c\\xe6seafarers, and the thrill of discovery. It is very rare that new books like that are written now. Maybe because everybody flies in a tin can anywhere in the world within a few hours nowadays - there\\'s no adventure in it. We want to bring back the excitement.\\rA good story CAN bring it back. And we actually love technology and new possibilities it brings. We are going to tell this story in a way only modern phones and computers will allow. This medium allows a perfect fusion of \\x8c\\xe6old and new. Gorgeous artwork, meticulously crafted by hand on paper, is brought into the digital realm and transformed with sound, animation, and playful interaction. A whole world which parents and kids can step into and experience together.Well, it is really exciting! The storyboard, graphics and animations concept are done. The core elements of the programming side are mostly thought through. The team is in the midst of working on animation, turning the book into an interactive and fun App.\\x8c\\xe6We\\'ve gone as far as we could up to the point where we see the project is definitely on the right track. We did it without funding. We still have approximately 60% of the development to go before the App is ready to sail out. We\\'ve contacted investors, but we got the response, that what we do is too beautiful, too \"handmade\" and that Apps users don\\'t need anything like this anymore.Nevertheless, we believe that in the digital world there is even more place for magic and beauty, for the newly revealed good old hand painting, for reading and for a real sense of sharing an adventure.Now is the time to ask for some help. That is why we call out to you via Kickstarter.We work hard, with full dedication and much love. We\\'d appreciate your support of our project - we truly believe it is unique, entertaining and significant as a kid-parent experience.\\x8c\\xe6Your help will make it possible for us to complete our work and bring The Real Boat story to the big wide world and of course to you and your kids.We are an international team of artists sharing the love of art of storytelling and illustrating. We came to the idea of this interactive book fascinated by the opportunity opened up by technology: to introduce what we are passionate about in innovative ways.Special Thanks to: Denis Paduchev,\\x8c\\xe6Jonathan and Pamela Lubell, Mich\\'ael Zupraner, Roni Levin, Eli Pitcovski and Dula Yavne.\\r\\rIt will be used to create the most\\x8c\\xe6beautiful and\\x8c\\xe6inspiring interactive story. The funds will cover animation, sound effects and\\x8c\\xe6programming production. They will also cover \\x8c\\xe6the creation of rewards\\x8c\\xe6and some of the inevitable taxes along the way.Your support will allow us to\\x8c\\xe6complete the Real Boat app within six months.'"
      ]
     },
     "execution_count": 235,
     "metadata": {},
     "output_type": "execute_result"
    }
   ],
   "source": [
    "analysis.iloc[856].Description"
   ]
  },
  {
   "cell_type": "code",
   "execution_count": 241,
   "metadata": {},
   "outputs": [
    {
     "data": {
      "text/plain": [
       "8.089197224975223"
      ]
     },
     "execution_count": 241,
     "metadata": {},
     "output_type": "execute_result"
    }
   ],
   "source": [
    "analysis[analysis['current_status']==0]['Rewards'].mean()"
   ]
  },
  {
   "cell_type": "code",
   "execution_count": 267,
   "metadata": {},
   "outputs": [
    {
     "data": {
      "text/plain": [
       "'https://www.kickstarter.com/projects/252516016/synematika-the-3d-script?ref=category_newest'"
      ]
     },
     "execution_count": 267,
     "metadata": {},
     "output_type": "execute_result"
    }
   ],
   "source": [
    "final_csv.sentimen_score.idxmax()\n",
    "analysis.iloc[629].project_url"
   ]
  },
  {
   "cell_type": "code",
   "execution_count": null,
   "metadata": {},
   "outputs": [],
   "source": [
    "pd.re"
   ]
  }
 ],
 "metadata": {
  "kernelspec": {
   "display_name": "Python 2",
   "language": "python",
   "name": "python2"
  },
  "language_info": {
   "codemirror_mode": {
    "name": "ipython",
    "version": 2
   },
   "file_extension": ".py",
   "mimetype": "text/x-python",
   "name": "python",
   "nbconvert_exporter": "python",
   "pygments_lexer": "ipython2",
   "version": "2.7.13"
  }
 },
 "nbformat": 4,
 "nbformat_minor": 2
}
